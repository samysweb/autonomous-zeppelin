{
 "cells": [
  {
   "cell_type": "code",
   "execution_count": 1,
   "id": "6e0526fb",
   "metadata": {},
   "outputs": [],
   "source": [
    "import gym"
   ]
  },
  {
   "cell_type": "code",
   "execution_count": 2,
   "id": "a0454994",
   "metadata": {},
   "outputs": [],
   "source": [
    "import zeppelin"
   ]
  },
  {
   "cell_type": "code",
   "execution_count": 3,
   "id": "462026e9",
   "metadata": {},
   "outputs": [],
   "source": [
    "import time "
   ]
  },
  {
   "cell_type": "code",
   "execution_count": 5,
   "id": "6893be37",
   "metadata": {},
   "outputs": [],
   "source": [
    "import controller1\n",
    "import controller2"
   ]
  },
  {
   "cell_type": "code",
   "execution_count": 6,
   "id": "f44ed3d6",
   "metadata": {},
   "outputs": [],
   "source": [
    "import matplotlib.pyplot as plt\n",
    "from IPython import display\n",
    "%matplotlib inline"
   ]
  },
  {
   "cell_type": "code",
   "execution_count": 7,
   "id": "b8444917",
   "metadata": {},
   "outputs": [
    {
     "name": "stderr",
     "output_type": "stream",
     "text": [
      "/home/samuel/anaconda3/envs/nnv/lib/python3.8/site-packages/gym/spaces/box.py:73: UserWarning: \u001b[33mWARN: Box bound precision lowered by casting to float32\u001b[0m\n",
      "  logger.warn(\n"
     ]
    }
   ],
   "source": [
    "env = gym.make(\"realZeppelin-v0\")"
   ]
  },
  {
   "cell_type": "code",
   "execution_count": 8,
   "id": "fb010a81",
   "metadata": {},
   "outputs": [],
   "source": [
    "env.unwrapped.INCLUDE_UNWINNABLE = False\n",
    "env.unwrapped.WORST_CASE_TURBULENCE = True"
   ]
  },
  {
   "cell_type": "code",
   "execution_count": 9,
   "id": "752aad87",
   "metadata": {},
   "outputs": [],
   "source": [
    "from fractions import Fraction"
   ]
  },
  {
   "cell_type": "code",
   "execution_count": 10,
   "id": "a6160825",
   "metadata": {},
   "outputs": [],
   "source": [
    "override_start = [Fraction(2633557335461059, 1099511627776),\\\n",
    " Fraction(-503953128796187, 2199023255552),\\\n",
    " Fraction(3628526067126281, 4398046511104),\\\n",
    " Fraction(-185185157013285, 549755813888),\\\n",
    " Fraction(-751647214609471, 35184372088832),\\\n",
    " Fraction(-4836852687680241, 281474976710656),\\\n",
    " Fraction(5603922009941685, 4398046511104)]\n",
    "override_start = None"
   ]
  },
  {
   "cell_type": "code",
   "execution_count": null,
   "id": "cda76b6b",
   "metadata": {},
   "outputs": [],
   "source": [
    "env.exclude_because_unwinnable(override_start,print_vals=True)"
   ]
  },
  {
   "cell_type": "code",
   "execution_count": 11,
   "id": "dd1d2db4",
   "metadata": {},
   "outputs": [],
   "source": [
    "do_render = False"
   ]
  },
  {
   "cell_type": "markdown",
   "id": "5c39661b",
   "metadata": {},
   "source": [
    "# Simulations for Controller 1"
   ]
  },
  {
   "cell_type": "code",
   "execution_count": 12,
   "id": "090ea589",
   "metadata": {},
   "outputs": [
    {
     "name": "stderr",
     "output_type": "stream",
     "text": [
      "/home/samuel/anaconda3/envs/nnv/lib/python3.8/site-packages/gym/spaces/box.py:142: UserWarning: \u001b[33mWARN: Casting input x to numpy array.\u001b[0m\n",
      "  logger.warn(\"Casting input x to numpy array.\")\n"
     ]
    }
   ],
   "source": [
    "# Number of steps you run the agent for \n",
    "num_steps = 100000\n",
    "runs = 1\n",
    "obs = env.reset()\n",
    "if override_start is not None:\n",
    "    obs = override_start\n",
    "    env.unwrapped.state = obs\n",
    "start_obs = obs\n",
    "obs = list(map(float,obs))\n",
    "\n",
    "for step in range(num_steps):\n",
    "    # take random action, but you can also do something more intelligent\n",
    "    # action = my_intelligent_agent_fn(obs) \n",
    "    #action = env.action_space.sample()\n",
    "    x1 = obs[0]\n",
    "    x2 = obs[1]\n",
    "    o1 = obs[2]\n",
    "    o2 = obs[3]\n",
    "    v1 = obs[4]\n",
    "    v2 = obs[5]\n",
    "    c = obs[6]\n",
    "    p = env.MAX_VELOCITY\n",
    "    r = env.MAX_TURBULENCE\n",
    "    T = env.TIME_STEP\n",
    "    action = controller1.control(x1, x2, o1, o2, c, v1, v2, p, r, T)\n",
    "    \n",
    "    # apply the action\n",
    "    obs, reward, done, info = env.step(action)\n",
    "    \n",
    "    # Render the env\n",
    "    if do_render:\n",
    "        env.render()\n",
    "\n",
    "    # Wait a bit before the next frame unless you want to see a crazy fast video\n",
    "    #time.sleep(0.1)\n",
    "    \n",
    "    if env.is_crash():\n",
    "        print(\"=========================================\")\n",
    "        print(runs)\n",
    "        print(\"CRASH:\")\n",
    "        print(start_obs)\n",
    "        print(obs)\n",
    "        print(\"=========================================\")\n",
    "    \n",
    "    # If the epsiode is up, then start another one\n",
    "    if done:\n",
    "        obs = env.reset()\n",
    "        if override_start is not None:\n",
    "            obs = override_start\n",
    "            env.unwrapped.state = obs\n",
    "        start_obs = obs\n",
    "        obs = list(map(float,obs))\n",
    "        runs+=1\n",
    "        if runs % 1000 == 0:\n",
    "            print(\".\",end=\"\")"
   ]
  },
  {
   "cell_type": "code",
   "execution_count": 13,
   "id": "c135827d",
   "metadata": {},
   "outputs": [
    {
     "data": {
      "text/plain": [
       "869"
      ]
     },
     "execution_count": 13,
     "metadata": {},
     "output_type": "execute_result"
    }
   ],
   "source": [
    "runs"
   ]
  },
  {
   "cell_type": "markdown",
   "id": "70b55eaa",
   "metadata": {},
   "source": [
    "# Simulations for Controller 2"
   ]
  },
  {
   "cell_type": "code",
   "execution_count": 11,
   "id": "ab69a71f",
   "metadata": {},
   "outputs": [
    {
     "name": "stderr",
     "output_type": "stream",
     "text": [
      "/home/samuel/anaconda3/envs/nnv/lib/python3.8/site-packages/gym/spaces/box.py:142: UserWarning: \u001b[33mWARN: Casting input x to numpy array.\u001b[0m\n",
      "  logger.warn(\"Casting input x to numpy array.\")\n"
     ]
    },
    {
     "name": "stdout",
     "output_type": "stream",
     "text": [
      "........................................................................................."
     ]
    }
   ],
   "source": [
    "# Number of steps you run the agent for \n",
    "num_steps = 10000000\n",
    "runs = 1\n",
    "obs = env.reset()\n",
    "if override_start is not None:\n",
    "    obs = override_start\n",
    "    env.unwrapped.state = obs\n",
    "start_obs = obs\n",
    "obs = list(map(float,obs))\n",
    "\n",
    "for step in range(num_steps):\n",
    "    # take random action, but you can also do something more intelligent\n",
    "    # action = my_intelligent_agent_fn(obs) \n",
    "    #action = env.action_space.sample()\n",
    "    x1 = obs[0]\n",
    "    x2 = obs[1]\n",
    "    o1 = obs[2]\n",
    "    o2 = obs[3]\n",
    "    v1 = obs[4]\n",
    "    v2 = obs[5]\n",
    "    c = obs[6]\n",
    "    p = env.MAX_VELOCITY\n",
    "    r = env.MAX_TURBULENCE\n",
    "    T = env.TIME_STEP\n",
    "    action = controller2.control(x1, x2, o1, o2, c, v1, v2, p, r, T)\n",
    "    \n",
    "    # apply the action\n",
    "    obs, reward, done, info = env.step(action)\n",
    "    \n",
    "    # Render the env\n",
    "    if do_render:\n",
    "        env.render()\n",
    "\n",
    "    # Wait a bit before the next frame unless you want to see a crazy fast video\n",
    "    #time.sleep(0.1)\n",
    "    \n",
    "    if env.is_crash():\n",
    "        print(\"=========================================\")\n",
    "        print(runs)\n",
    "        print(\"CRASH:\")\n",
    "        print(start_obs)\n",
    "        print(obs)\n",
    "        print(\"=========================================\")\n",
    "    \n",
    "    # If the epsiode is up, then start another one\n",
    "    if done:\n",
    "        obs = env.reset()\n",
    "        if override_start is not None:\n",
    "            obs = override_start\n",
    "            env.unwrapped.state = obs\n",
    "        start_obs = obs\n",
    "        obs = list(map(float,obs))\n",
    "        runs+=1\n",
    "        if runs % 1000 == 0:\n",
    "            print(\".\",end=\"\")"
   ]
  },
  {
   "cell_type": "code",
   "execution_count": 12,
   "id": "fb9450e0",
   "metadata": {
    "scrolled": true
   },
   "outputs": [
    {
     "name": "stdout",
     "output_type": "stream",
     "text": [
      "89655\n"
     ]
    }
   ],
   "source": [
    "print(runs)"
   ]
  },
  {
   "cell_type": "code",
   "execution_count": 13,
   "id": "75b47fcc",
   "metadata": {},
   "outputs": [
    {
     "name": "stdout",
     "output_type": "stream",
     "text": [
      "..................................................................................................................................................................................................................................................................................................................................................................................................................................................................................................................................................................................................................................................................................................................................................................................................................................."
     ]
    }
   ],
   "source": [
    "# Number of steps you run the agent for \n",
    "num_steps = 90000000\n",
    "obs = env.reset()\n",
    "if override_start is not None:\n",
    "    obs = override_start\n",
    "    env.unwrapped.state = obs\n",
    "start_obs = obs\n",
    "obs = list(map(float,obs))\n",
    "\n",
    "for step in range(num_steps):\n",
    "    # take random action, but you can also do something more intelligent\n",
    "    # action = my_intelligent_agent_fn(obs) \n",
    "    #action = env.action_space.sample()\n",
    "    x1 = obs[0]\n",
    "    x2 = obs[1]\n",
    "    o1 = obs[2]\n",
    "    o2 = obs[3]\n",
    "    v1 = obs[4]\n",
    "    v2 = obs[5]\n",
    "    c = obs[6]\n",
    "    p = env.MAX_VELOCITY\n",
    "    r = env.MAX_TURBULENCE\n",
    "    T = env.TIME_STEP\n",
    "    action = controller2.control(x1, x2, o1, o2, c, v1, v2, p, r, T)\n",
    "    \n",
    "    # apply the action\n",
    "    obs, reward, done, info = env.step(action)\n",
    "    \n",
    "    # Render the env\n",
    "    if do_render:\n",
    "        env.render()\n",
    "\n",
    "    # Wait a bit before the next frame unless you want to see a crazy fast video\n",
    "    #time.sleep(0.1)\n",
    "    \n",
    "    if env.is_crash():\n",
    "        print(\"=========================================\")\n",
    "        print(runs)\n",
    "        print(\"CRASH:\")\n",
    "        print(start_obs)\n",
    "        print(obs)\n",
    "        print(\"=========================================\")\n",
    "    \n",
    "    # If the epsiode is up, then start another one\n",
    "    if done:\n",
    "        obs = env.reset()\n",
    "        if override_start is not None:\n",
    "            obs = override_start\n",
    "            env.unwrapped.state = obs\n",
    "        start_obs = obs\n",
    "        obs = list(map(float,obs))\n",
    "        runs+=1\n",
    "        if runs % 1000 == 0:\n",
    "            print(\".\",end=\"\")"
   ]
  },
  {
   "cell_type": "code",
   "execution_count": null,
   "id": "439d2ec6",
   "metadata": {
    "collapsed": true
   },
   "outputs": [],
   "source": [
    "# Close the env\n",
    "env.close()"
   ]
  },
  {
   "cell_type": "code",
   "execution_count": null,
   "id": "050dba51",
   "metadata": {},
   "outputs": [],
   "source": []
  }
 ],
 "metadata": {
  "kernelspec": {
   "display_name": "Python 3 (ipykernel)",
   "language": "python",
   "name": "python3"
  },
  "language_info": {
   "codemirror_mode": {
    "name": "ipython",
    "version": 3
   },
   "file_extension": ".py",
   "mimetype": "text/x-python",
   "name": "python",
   "nbconvert_exporter": "python",
   "pygments_lexer": "ipython3",
   "version": "3.8.5"
  }
 },
 "nbformat": 4,
 "nbformat_minor": 5
}
